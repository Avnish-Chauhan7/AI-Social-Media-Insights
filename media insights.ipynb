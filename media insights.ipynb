{
 "cells": [
  {
   "cell_type": "code",
   "execution_count": 1,
   "id": "a98d27f0-b4ee-4e8d-812c-584bab046820",
   "metadata": {},
   "outputs": [
    {
     "ename": "ModuleNotFoundError",
     "evalue": "No module named 'tweepy'",
     "output_type": "error",
     "traceback": [
      "\u001b[1;31m---------------------------------------------------------------------------\u001b[0m",
      "\u001b[1;31mModuleNotFoundError\u001b[0m                       Traceback (most recent call last)",
      "Cell \u001b[1;32mIn[1], line 4\u001b[0m\n\u001b[0;32m      1\u001b[0m \u001b[38;5;66;03m# AI for Social Media Analysis and Insights\u001b[39;00m\n\u001b[0;32m      2\u001b[0m \n\u001b[0;32m      3\u001b[0m \u001b[38;5;66;03m# --- Dependencies ---\u001b[39;00m\n\u001b[1;32m----> 4\u001b[0m \u001b[38;5;28;01mimport\u001b[39;00m\u001b[38;5;250m \u001b[39m\u001b[38;5;21;01mtweepy\u001b[39;00m\n\u001b[0;32m      5\u001b[0m \u001b[38;5;28;01mimport\u001b[39;00m\u001b[38;5;250m \u001b[39m\u001b[38;5;21;01mpandas\u001b[39;00m\u001b[38;5;250m \u001b[39m\u001b[38;5;28;01mas\u001b[39;00m\u001b[38;5;250m \u001b[39m\u001b[38;5;21;01mpd\u001b[39;00m\n\u001b[0;32m      6\u001b[0m \u001b[38;5;28;01mimport\u001b[39;00m\u001b[38;5;250m \u001b[39m\u001b[38;5;21;01mre\u001b[39;00m\n",
      "\u001b[1;31mModuleNotFoundError\u001b[0m: No module named 'tweepy'"
     ]
    }
   ],
   "source": [
    "# AI for Social Media Analysis and Insights\n",
    "\n",
    "# --- Dependencies ---\n",
    "import tweepy\n",
    "import pandas as pd\n",
    "import re\n",
    "import nltk\n",
    "from textblob import TextBlob\n",
    "import matplotlib.pyplot as plt\n",
    "from wordcloud import WordCloud\n",
    "\n",
    "# --- Twitter API Authentication (replace with your credentials) ---\n",
    "api_key = 'YOUR_API_KEY'\n",
    "api_key_secret = 'YOUR_API_KEY_SECRET'\n",
    "access_token = 'YOUR_ACCESS_TOKEN'\n",
    "access_token_secret = 'YOUR_ACCESS_TOKEN_SECRET'\n",
    "\n",
    "# --- Authenticate with Twitter ---\n",
    "auth = tweepy.OAuthHandler(api_key, api_key_secret)\n",
    "auth.set_access_token(access_token, access_token_secret)\n",
    "api = tweepy.API(auth)\n",
    "\n",
    "# --- Fetch Tweets Function ---\n",
    "def fetch_tweets(query, count=100):\n",
    "    tweets = tweepy.Cursor(api.search_tweets, q=query, lang='en', tweet_mode='extended').items(count)\n",
    "    tweet_list = [[tweet.created_at, tweet.user.screen_name, tweet.full_text] for tweet in tweets]\n",
    "    df = pd.DataFrame(tweet_list, columns=['Timestamp', 'User', 'Text'])\n",
    "    return df\n",
    "\n",
    "# --- Clean Text Function ---\n",
    "def clean_text(text):\n",
    "    text = re.sub(r'http\\S+|www\\S+|https\\S+', '', text, flags=re.MULTILINE)\n",
    "    text = re.sub(r'\\@\\w+|\\#', '', text)\n",
    "    text = re.sub(r'[^A-Za-z0-9\\s]+', '', text)\n",
    "    return text\n",
    "\n",
    "# --- Sentiment Analysis Function ---\n",
    "def analyze_sentiment(text):\n",
    "    blob = TextBlob(text)\n",
    "    polarity = blob.sentiment.polarity\n",
    "    return 'Positive' if polarity > 0 else 'Negative' if polarity < 0 else 'Neutral'\n",
    "\n",
    "# --- Visualization Function ---\n",
    "def visualize_sentiment(df):\n",
    "    sentiment_counts = df['Sentiment'].value_counts()\n",
    "    sentiment_counts.plot(kind='bar', color=['green', 'red', 'blue'])\n",
    "    plt.title('Sentiment Analysis')\n",
    "    plt.xlabel('Sentiment')\n",
    "    plt.ylabel('Number of Tweets')\n",
    "    plt.show()\n",
    "\n",
    "# --- Word Cloud Function ---\n",
    "def generate_wordcloud(text_series):\n",
    "    text = ' '.join(text_series)\n",
    "    wordcloud = WordCloud(width=800, height=400, background_color='white').generate(text)\n",
    "    plt.figure(figsize=(10, 5))\n",
    "    plt.imshow(wordcloud, interpolation='bilinear')\n",
    "    plt.axis('off')\n",
    "    plt.title('Word Cloud of Tweets')\n",
    "    plt.show()\n",
    "\n",
    "# --- Main Pipeline ---\n",
    "def run_analysis(topic, tweet_count=200):\n",
    "    print(f\"Fetching tweets about: {topic}\")\n",
    "    df = fetch_tweets(topic, tweet_count)\n",
    "    df['CleanText'] = df['Text'].apply(clean_text)\n",
    "    df['Sentiment'] = df['CleanText'].apply(analyze_sentiment)\n",
    "    visualize_sentiment(df)\n",
    "    generate_wordcloud(df['CleanText'])\n",
    "    return df\n",
    "\n",
    "# Example:\n",
    "# df_result = run_analysis('AI social media')\n",
    "# print(df_result.head())\n"
   ]
  },
  {
   "cell_type": "code",
   "execution_count": null,
   "id": "15cb6a98-b676-4e04-94cc-000cef6bc0e8",
   "metadata": {},
   "outputs": [],
   "source": []
  }
 ],
 "metadata": {
  "kernelspec": {
   "display_name": "Python 3 (ipykernel)",
   "language": "python",
   "name": "python3"
  },
  "language_info": {
   "codemirror_mode": {
    "name": "ipython",
    "version": 3
   },
   "file_extension": ".py",
   "mimetype": "text/x-python",
   "name": "python",
   "nbconvert_exporter": "python",
   "pygments_lexer": "ipython3",
   "version": "3.13.5"
  }
 },
 "nbformat": 4,
 "nbformat_minor": 5
}
